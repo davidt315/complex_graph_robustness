{
 "cells": [
  {
   "cell_type": "code",
   "execution_count": null,
   "id": "247339c1",
   "metadata": {},
   "outputs": [],
   "source": [
    "\"\"\"\n",
    "We will start by implementing the experiments conducted by Albert, Jeong, and Barabasi.\n",
    "\"\"\""
   ]
  },
  {
   "cell_type": "code",
   "execution_count": 13,
   "id": "9c6c4330",
   "metadata": {},
   "outputs": [],
   "source": [
    "import matplotlib.pyplot as plt\n",
    "import networkx as nx\n",
    "import numpy as np\n",
    "import seaborn as sns"
   ]
  },
  {
   "cell_type": "markdown",
   "id": "a0c8f474",
   "metadata": {},
   "source": [
    "### Creating an ER Random Graph and a WS Small World Graph"
   ]
  },
  {
   "cell_type": "code",
   "execution_count": 21,
   "id": "ea008769",
   "metadata": {},
   "outputs": [
    {
     "name": "stdout",
     "output_type": "stream",
     "text": [
      "Graph with 10000 nodes and 20000 edges Graph with 10000 nodes and 20000 edges\n"
     ]
    }
   ],
   "source": [
    "n = 10000\n",
    "m = 20000\n",
    "k = 4\n",
    "# p_ER = 0.01\n",
    "p_WS = 0.2\n",
    "\n",
    "ER = nx.gnm_random_graph(n, m)\n",
    "# ER = nx.erdos_renyi_graph(n, p_ER)\n",
    "WS = nx.watts_strogatz_graph(n, k, p_WS)\n",
    "print(ER, WS)"
   ]
  },
  {
   "cell_type": "code",
   "execution_count": null,
   "id": "3fa76509",
   "metadata": {},
   "outputs": [],
   "source": []
  },
  {
   "cell_type": "code",
   "execution_count": null,
   "id": "390ca9a3",
   "metadata": {},
   "outputs": [],
   "source": []
  },
  {
   "cell_type": "code",
   "execution_count": null,
   "id": "cd677c80",
   "metadata": {},
   "outputs": [],
   "source": []
  },
  {
   "cell_type": "code",
   "execution_count": null,
   "id": "187029d3",
   "metadata": {},
   "outputs": [],
   "source": []
  },
  {
   "cell_type": "code",
   "execution_count": null,
   "id": "0928ac64",
   "metadata": {},
   "outputs": [],
   "source": []
  },
  {
   "cell_type": "markdown",
   "id": "8f6159ce",
   "metadata": {},
   "source": [
    "### Reading in the Electrical Grid Graph and Using that"
   ]
  },
  {
   "cell_type": "code",
   "execution_count": 22,
   "id": "b177a895",
   "metadata": {},
   "outputs": [],
   "source": [
    "def read_graph(filename):\n",
    "    G = nx.Graph()\n",
    "    array = np.loadtxt(filename, dtype=int)\n",
    "    G.add_edges_from(array)\n",
    "    return G"
   ]
  },
  {
   "cell_type": "code",
   "execution_count": 12,
   "id": "078a0fbc",
   "metadata": {},
   "outputs": [
    {
     "name": "stdout",
     "output_type": "stream",
     "text": [
      "Graph with 4941 nodes and 6594 edges\n"
     ]
    }
   ],
   "source": [
    "electrical_grid = read_graph('opsahl-powergrid/out.opsahl-powergrid')\n",
    "print(electrical_grid)"
   ]
  },
  {
   "cell_type": "code",
   "execution_count": null,
   "id": "70e09255",
   "metadata": {},
   "outputs": [],
   "source": []
  }
 ],
 "metadata": {
  "kernelspec": {
   "display_name": "Python 3 (ipykernel)",
   "language": "python",
   "name": "python3"
  },
  "language_info": {
   "codemirror_mode": {
    "name": "ipython",
    "version": 3
   },
   "file_extension": ".py",
   "mimetype": "text/x-python",
   "name": "python",
   "nbconvert_exporter": "python",
   "pygments_lexer": "ipython3",
   "version": "3.8.10"
  }
 },
 "nbformat": 4,
 "nbformat_minor": 5
}
