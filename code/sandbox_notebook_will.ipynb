{
 "cells": [
  {
   "cell_type": "markdown",
   "id": "armed-faith",
   "metadata": {},
   "source": [
    "We will start by implementing the experiments conducted by Albert, Jeong, and Barabasi."
   ]
  },
  {
   "cell_type": "code",
   "execution_count": 28,
   "id": "9c6c4330",
   "metadata": {},
   "outputs": [],
   "source": [
    "import matplotlib.pyplot as plt\n",
    "import networkx as nx\n",
    "import numpy as np\n",
    "import seaborn as sns"
   ]
  },
  {
   "cell_type": "markdown",
   "id": "a0c8f474",
   "metadata": {},
   "source": [
    "### Creating an ER Random Graph and a WS Small World Graph"
   ]
  },
  {
   "cell_type": "code",
   "execution_count": 29,
   "id": "ea008769",
   "metadata": {},
   "outputs": [],
   "source": [
    "n = 10000\n",
    "m = 20000\n",
    "k = 4\n",
    "# p_ER = 0.01\n",
    "p_WS = 0.2\n",
    "\n",
    "ER = nx.gnm_random_graph(n, m)\n",
    "# ER = nx.erdos_renyi_graph(n, p_ER)\n",
    "WS = nx.watts_strogatz_graph(n, k, p_WS)"
   ]
  },
  {
   "cell_type": "markdown",
   "id": "8f6159ce",
   "metadata": {},
   "source": [
    "### Reading in the Electrical Grid Graph and Using that"
   ]
  },
  {
   "cell_type": "code",
   "execution_count": 30,
   "id": "b177a895",
   "metadata": {},
   "outputs": [],
   "source": [
    "def read_graph(filename):\n",
    "    G = nx.Graph()\n",
    "    array = np.loadtxt(filename, dtype=int)\n",
    "    G.add_edges_from(array)\n",
    "    return G"
   ]
  },
  {
   "cell_type": "code",
   "execution_count": 31,
   "id": "078a0fbc",
   "metadata": {},
   "outputs": [],
   "source": [
    "electrical_grid = read_graph('opsahl-powergrid/out.opsahl-powergrid')"
   ]
  },
  {
   "cell_type": "markdown",
   "id": "relative-rough",
   "metadata": {},
   "source": [
    "### Implementing a Random Attack"
   ]
  },
  {
   "cell_type": "code",
   "execution_count": 32,
   "id": "respective-relation",
   "metadata": {},
   "outputs": [],
   "source": [
    "def flip(p):\n",
    "    \"\"\"Returns True with probability `p`.\"\"\"\n",
    "    return np.random.random() < p\n",
    "\n",
    "def random_attack(G, p):\n",
    "    \"\"\"Returns a graph with nodes removed at probability p\"\"\"\n",
    "    for i in list(G.nodes()):\n",
    "        if flip(p):\n",
    "            G.remove_node(i)\n",
    "    return G"
   ]
  },
  {
   "cell_type": "code",
   "execution_count": 33,
   "id": "tender-ukraine",
   "metadata": {},
   "outputs": [],
   "source": [
    "def sample_path_lengths(G, nodes=None, trials=1000):\n",
    "    \"\"\"Choose random pairs of nodes and compute the path length between them.\n",
    "\n",
    "    G: Graph\n",
    "    nodes: list of nodes to choose from\n",
    "    trials: number of pairs to choose\n",
    "\n",
    "    returns: list of path lengths\n",
    "    \"\"\"\n",
    "    if nodes is None:\n",
    "        nodes = list(G)\n",
    "    else:\n",
    "        nodes = list(nodes)\n",
    "    \n",
    "        \n",
    "    pairs = np.random.choice(nodes, (trials, 2))\n",
    "    lengths = []\n",
    "    for pair in pairs:\n",
    "        try:\n",
    "            path = nx.shortest_path_length(G, *pair)\n",
    "            lengths.append(path)\n",
    "        except:\n",
    "            pass\n",
    "    return lengths"
   ]
  },
  {
   "cell_type": "code",
   "execution_count": 35,
   "id": "endangered-lotus",
   "metadata": {},
   "outputs": [
    {
     "name": "stdout",
     "output_type": "stream",
     "text": [
      "10.746238716148445\n"
     ]
    }
   ],
   "source": [
    "WS_f =  random_attack(WS, .1)\n",
    "lengths = sample_path_lengths(WS_f)\n",
    "print(np.mean(lengths))"
   ]
  },
  {
   "cell_type": "code",
   "execution_count": null,
   "id": "divided-porter",
   "metadata": {},
   "outputs": [],
   "source": []
  }
 ],
 "metadata": {
  "kernelspec": {
   "display_name": "Python 3",
   "language": "python",
   "name": "python3"
  },
  "language_info": {
   "codemirror_mode": {
    "name": "ipython",
    "version": 3
   },
   "file_extension": ".py",
   "mimetype": "text/x-python",
   "name": "python",
   "nbconvert_exporter": "python",
   "pygments_lexer": "ipython3",
   "version": "3.7.3"
  }
 },
 "nbformat": 4,
 "nbformat_minor": 5
}
